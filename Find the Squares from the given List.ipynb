{
 "cells": [
  {
   "cell_type": "code",
   "execution_count": null,
   "id": "91c6f380",
   "metadata": {},
   "outputs": [],
   "source": [
    "# Write a Python program to square the elements of a list using map() function."
   ]
  },
  {
   "cell_type": "code",
   "execution_count": 3,
   "id": "4cd25a96",
   "metadata": {},
   "outputs": [
    {
     "name": "stdout",
     "output_type": "stream",
     "text": [
      "Given list:  (8, 4, 5, 6, 2, 1, 0, 4)\n",
      "Squares of the list items :\n",
      "[64, 16, 25, 36, 4, 1, 0, 16]\n"
     ]
    }
   ],
   "source": [
    "l = (8,4,5,6,2,1,0,4)\n",
    "print(\"Given list: \", l)\n",
    "a = map(lambda x: x**2, l) \n",
    "print(\"Squares of the list items :\")\n",
    "print(list(a))"
   ]
  },
  {
   "cell_type": "code",
   "execution_count": null,
   "id": "da2f965f",
   "metadata": {},
   "outputs": [],
   "source": []
  }
 ],
 "metadata": {
  "kernelspec": {
   "display_name": "Python 3",
   "language": "python",
   "name": "python3"
  },
  "language_info": {
   "codemirror_mode": {
    "name": "ipython",
    "version": 3
   },
   "file_extension": ".py",
   "mimetype": "text/x-python",
   "name": "python",
   "nbconvert_exporter": "python",
   "pygments_lexer": "ipython3",
   "version": "3.8.8"
  }
 },
 "nbformat": 4,
 "nbformat_minor": 5
}
