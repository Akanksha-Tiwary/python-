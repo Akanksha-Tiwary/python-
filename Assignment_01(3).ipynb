{
 "cells": [
  {
   "cell_type": "code",
   "execution_count": null,
   "id": "666e7ca9",
   "metadata": {},
   "outputs": [],
   "source": [
    "# Assignment_01(question 3)\n",
    "# counting even and odd in the list\n",
    "\n",
    "a=[1,2,3,4,5,6,7,8,9,10,11,12,13,14,15]\n",
    "b=0\n",
    "c=0\n",
    "for i in range(0,15):\n",
    "    if(i%2==0):\n",
    "        b=b+1\n",
    "    else:\n",
    "        c=c+1\n",
    "print(a)\n",
    "print(\"Odd number:\",b)\n",
    "print(\"Even number:\",c)"
   ]
  }
 ],
 "metadata": {
  "kernelspec": {
   "display_name": "Python 3",
   "language": "python",
   "name": "python3"
  },
  "language_info": {
   "codemirror_mode": {
    "name": "ipython",
    "version": 3
   },
   "file_extension": ".py",
   "mimetype": "text/x-python",
   "name": "python",
   "nbconvert_exporter": "python",
   "pygments_lexer": "ipython3",
   "version": "3.8.8"
  }
 },
 "nbformat": 4,
 "nbformat_minor": 5
}
