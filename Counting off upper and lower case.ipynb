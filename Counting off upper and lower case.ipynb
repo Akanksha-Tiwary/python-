{
 "cells": [
  {
   "cell_type": "code",
   "execution_count": 4,
   "id": "df796f89",
   "metadata": {},
   "outputs": [
    {
     "name": "stdout",
     "output_type": "stream",
     "text": [
      "original string I am Akanksha Tiwari subMItting my ASSIGNMENT LATE due to various eXamS \n",
      "number of upper case alphabets: 21\n",
      "number of lower case alphabets: 39\n"
     ]
    }
   ],
   "source": [
    "# Write a Python function that accepts a string and calculate the number of upper case letters and lower case letters.\n",
    "\n",
    "\n",
    "def string_test(s):\n",
    "    d={\"UPPER_CASE\":0, \"lower_case\":0}\n",
    "    for c in s:\n",
    "        if c.isupper():\n",
    "            d[\"UPPER_CASE\"]+=1\n",
    "        elif c.islower():\n",
    "            d[\"lower_case\"]+=1\n",
    "        else:\n",
    "            pass\n",
    "    print(f\"original string\",s)\n",
    "    print(\"number of upper case alphabets:\",d[\"UPPER_CASE\"])\n",
    "    print(\"number of lower case alphabets:\",d[\"lower_case\"])\n",
    "string_test(\"I am Akanksha Tiwari subMItting my ASSIGNMENT LATE due to various eXamS \")"
   ]
  },
  {
   "cell_type": "code",
   "execution_count": null,
   "id": "86fe15d4",
   "metadata": {},
   "outputs": [],
   "source": []
  }
 ],
 "metadata": {
  "kernelspec": {
   "display_name": "Python 3",
   "language": "python",
   "name": "python3"
  },
  "language_info": {
   "codemirror_mode": {
    "name": "ipython",
    "version": 3
   },
   "file_extension": ".py",
   "mimetype": "text/x-python",
   "name": "python",
   "nbconvert_exporter": "python",
   "pygments_lexer": "ipython3",
   "version": "3.8.8"
  }
 },
 "nbformat": 4,
 "nbformat_minor": 5
}
