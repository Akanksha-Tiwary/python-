{
 "cells": [
  {
   "cell_type": "code",
   "execution_count": 7,
   "id": "4cfb33ca",
   "metadata": {},
   "outputs": [
    {
     "name": "stdout",
     "output_type": "stream",
     "text": [
      "100000\n"
     ]
    }
   ],
   "source": [
    "\n",
    "# Write a Python class to implement pow(x, n)\n",
    "\n",
    "class power:\n",
    "    def power_of_no(x,n):\n",
    "        return pow(x,n)\n",
    "print(power.power_of_no(10,5))"
   ]
  },
  {
   "cell_type": "code",
   "execution_count": null,
   "id": "c93eb0d2",
   "metadata": {},
   "outputs": [],
   "source": []
  }
 ],
 "metadata": {
  "kernelspec": {
   "display_name": "Python 3",
   "language": "python",
   "name": "python3"
  },
  "language_info": {
   "codemirror_mode": {
    "name": "ipython",
    "version": 3
   },
   "file_extension": ".py",
   "mimetype": "text/x-python",
   "name": "python",
   "nbconvert_exporter": "python",
   "pygments_lexer": "ipython3",
   "version": "3.8.8"
  }
 },
 "nbformat": 4,
 "nbformat_minor": 5
}
