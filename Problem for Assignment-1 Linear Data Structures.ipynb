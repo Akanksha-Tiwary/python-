{
 "cells": [
  {
   "cell_type": "code",
   "execution_count": 57,
   "id": "921178df",
   "metadata": {},
   "outputs": [
    {
     "name": "stdout",
     "output_type": "stream",
     "text": [
      "(1, 5)\n"
     ]
    }
   ],
   "source": [
    "#Q1. Write a program to find all pairs of an integer array whose sum is equal to a given number?\n",
    "\n",
    "def printPairs(arr, n, sum):\n",
    "\n",
    "    for i in range(0, n ):\n",
    "        for j in range(i + 1, n ):\n",
    "            if (arr[i] + arr[j] == sum):\n",
    "                print(\"(\", arr[i],\n",
    "                      \", \", arr[j],\n",
    "                      \")\", sep = \"\")\n",
    " \n",
    " \n",
    "\n",
    "arr = [1, 5, 7,0, 4, -5]\n",
    "n = len(arr)\n",
    "sum = 6\n",
    "printPairs(arr, n, sum)"
   ]
  },
  {
   "cell_type": "code",
   "execution_count": 33,
   "id": "9c89945b",
   "metadata": {},
   "outputs": [
    {
     "name": "stdout",
     "output_type": "stream",
     "text": [
      "No. of pair is : 3\n"
     ]
    }
   ],
   "source": [
    "#Q2. Write a program to reverse an array in place? In place means you cannot create a new array. You have to update the original array.\n",
    "\n",
    "ar=[1,2,3,4,-1,7,5]\n",
    "n=len(ar)\n",
    "summation = 6\n",
    "print('No. of pair is :',getPairsCount(ar,n,summation))"
   ]
  },
  {
   "cell_type": "code",
   "execution_count": 34,
   "id": "775f33b8",
   "metadata": {},
   "outputs": [
    {
     "name": "stdout",
     "output_type": "stream",
     "text": [
      "Original array: \n",
      "1\t2\t3\t4\t5\tArray in reverse order: \t5\t4\t3\t2\t1\t"
     ]
    }
   ],
   "source": [
    "#Initialize array     \n",
    "\n",
    "ar = [1, 2, 3, 4, 5];     \n",
    "print(\"Original array: \");    \n",
    "for i in range(0, len(ar)):    \n",
    "    print(arr[i],end='\\t'),     \n",
    "print(\"Array in reverse order: \",end='\\t');    \n",
    "#Loop through the array in reverse order    \n",
    "for i in range(len(ar)-1, -1, -1):     \n",
    "    print(ar[i],end='\\t'),  "
   ]
  },
  {
   "cell_type": "code",
   "execution_count": 59,
   "id": "8bdf0cbf",
   "metadata": {},
   "outputs": [
    {
     "data": {
      "text/plain": [
       "False"
      ]
     },
     "execution_count": 59,
     "metadata": {},
     "output_type": "execute_result"
    }
   ],
   "source": [
    "#Q3. Write a program to check if two strings are a rotation of each other?\n",
    "\n",
    "def check_rotation(s, goal):\n",
    " \n",
    "    if (len(s) != len(goal)):\n",
    "        skip\n",
    " \n",
    "    q1 = []\n",
    "    for i in range(len(s)):\n",
    "        q1.insert(0, s[i])\n",
    " \n",
    "    q2 = []\n",
    "    for i in range(len(goal)):\n",
    "        q2.insert(0, goal[i])\n",
    " \n",
    "    k = len(goal)\n",
    "    while (k > 0):\n",
    "        ch = q2[0]\n",
    "        q2.pop(0)\n",
    "        q2.insert(0, ch)\n",
    "        if (q2 == q1):\n",
    "            return True\n",
    " \n",
    "        k -= 1\n",
    " \n",
    "    return False\n",
    "check_rotation('abcd','dcba')"
   ]
  },
  {
   "cell_type": "code",
   "execution_count": 36,
   "id": "4c788033",
   "metadata": {},
   "outputs": [
    {
     "name": "stdout",
     "output_type": "stream",
     "text": [
      "M\n",
      "u\n",
      "None\n"
     ]
    }
   ],
   "source": [
    "#Q4. Write a program to print the first non-repeated character from a string?\n",
    "\n",
    "def firstNonRepeatingChar(str1):\n",
    "    char_order = []\n",
    "    counts = {}\n",
    "    for c in str1:\n",
    "        if c in counts:\n",
    "           counts[c] += 1\n",
    "        else:\n",
    "           counts[c] = 1\n",
    "           char_order.append(c)\n",
    "    for c in char_order:\n",
    "        if counts[c] == 1:\n",
    "            return c\n",
    "    return None\n",
    "print(firstNonRepeatingChar('PythonforallPythonMustforall'))\n",
    "print(firstNonRepeatingChar('tutorialspointfordeveloper'))\n",
    "print(firstNonRepeatingChar('AABBCC'))"
   ]
  },
  {
   "cell_type": "code",
   "execution_count": 61,
   "id": "0779fc1e",
   "metadata": {},
   "outputs": [
    {
     "name": "stdout",
     "output_type": "stream",
     "text": [
      "Count of pairs is 1\n"
     ]
    }
   ],
   "source": [
    "def getPairsCount(arr, n, sum):\n",
    "  unordered_map = {}\n",
    "  count = 0\n",
    "  for i in range(n):\n",
    "      if sum - arr[i] in unordered_map:\n",
    "          count += unordered_map[sum - arr[i]]\n",
    " \n",
    "      if arr[i] in unordered_map:\n",
    "          unordered_map[arr[i]] += 1\n",
    "      else:\n",
    "          unordered_map[arr[i]] = 1\n",
    " \n",
    "  return count\n",
    " \n",
    "# Driver code\n",
    "arr = [1, 5, 7, 4, -5]\n",
    "n = len(arr)\n",
    "sum = 6\n",
    "print('Count of pairs is', getPairsCount(arr, n, sum))\n",
    "\n"
   ]
  },
  {
   "cell_type": "code",
   "execution_count": 37,
   "id": "ce209992",
   "metadata": {},
   "outputs": [
    {
     "name": "stdout",
     "output_type": "stream",
     "text": [
      "Move disk 1 from source A to destination C\n",
      "Move disk 2 from source A to destination B\n",
      "Move disk 1 from source C to destination B\n",
      "Move disk 3 from source A to destination C\n",
      "Move disk 1 from source B to destination A\n",
      "Move disk 2 from source B to destination C\n",
      "Move disk 1 from source A to destination C\n",
      "Move disk 4 from source A to destination B\n",
      "Move disk 1 from source C to destination B\n",
      "Move disk 2 from source C to destination A\n",
      "Move disk 1 from source B to destination A\n",
      "Move disk 3 from source C to destination B\n",
      "Move disk 1 from source A to destination C\n",
      "Move disk 2 from source A to destination B\n",
      "Move disk 1 from source C to destination B\n"
     ]
    }
   ],
   "source": [
    "#Q5. Read about the Tower of Hanoi algorithm. Write a program to implement it.\n",
    "\n",
    "def TowerOfHanoi(n , source, destination, auxiliary):\n",
    "    if n==1:\n",
    "        print (\"Move disk 1 from source\",source,\"to destination\",destination)\n",
    "        return\n",
    "    TowerOfHanoi(n-1, source, auxiliary, destination)\n",
    "    print (\"Move disk\",n,\"from source\",source,\"to destination\",destination)\n",
    "    TowerOfHanoi(n-1, auxiliary, destination, source)\n",
    "          \n",
    "n = 4\n",
    "TowerOfHanoi(n,'A','B','C') \n",
    "# A, C, B are the name of rods"
   ]
  },
  {
   "cell_type": "code",
   "execution_count": 1,
   "id": "ce48fc72",
   "metadata": {},
   "outputs": [
    {
     "name": "stdout",
     "output_type": "stream",
     "text": [
      "ABC/-AK/L-*\n"
     ]
    }
   ],
   "source": [
    "#Q6. Read about infix, prefix, and postfix expressions. Write a program to convert postfix to prefix expression\n",
    "s = \"*-A/BC-/AKL\"\n",
    "stack = []\n",
    "operators = set(['+', '-', '*', '/', '^'])\n",
    "s = s[::-1]\n",
    "for i in s:\n",
    "    if i in operators:\n",
    "\n",
    "        a = stack.pop()\n",
    "        b = stack.pop()\n",
    " \n",
    "        temp = a+b+i\n",
    "        stack.append(temp)\n",
    "\n",
    "    else:\n",
    "        stack.append(i)\n",
    "print(*stack)"
   ]
  },
  {
   "cell_type": "code",
   "execution_count": 2,
   "id": "c5bb0703",
   "metadata": {},
   "outputs": [
    {
     "name": "stdout",
     "output_type": "stream",
     "text": [
      "((A-(B/C))*((A/K)-L))\n"
     ]
    }
   ],
   "source": [
    "#Q7. Write a program to convert prefix expression to infix expression.\n",
    "\n",
    "def prefixToInfix(prefix):\n",
    "    stack = []\n",
    "     \n",
    "    i = len(prefix) - 1\n",
    "    while i >= 0:\n",
    "        if not isOperator(prefix[i]):\n",
    "             \n",
    "            stack.append(prefix[i])\n",
    "            i -= 1\n",
    "        else:\n",
    "        \n",
    "            str = \"(\" + stack.pop() + prefix[i] + stack.pop() + \")\"\n",
    "            stack.append(str)\n",
    "            i -= 1\n",
    "     \n",
    "    return stack.pop()\n",
    " \n",
    "def isOperator(c):\n",
    "    if c == \"*\" or c == \"+\" or c == \"-\" or c == \"/\" or c == \"^\" or c == \"(\" or c == \")\":\n",
    "        return True\n",
    "    else:\n",
    "        return False\n",
    "str = \"*-A/BC-/AKL\"\n",
    "print(prefixToInfix(str))"
   ]
  },
  {
   "cell_type": "code",
   "execution_count": 40,
   "id": "8c8560f1",
   "metadata": {},
   "outputs": [
    {
     "name": "stdout",
     "output_type": "stream",
     "text": [
      "([]{}() Not balanced\n"
     ]
    }
   ],
   "source": [
    "#Q8. Write a program to check if all the brackets are closed in a given code snippet.\n",
    "\n",
    "def brackets(expression):\n",
    "    all_br = ['()', '{}', '[]']\n",
    "    while any(x in expression for x in all_br):\n",
    "        for br in all_br:\n",
    "            expression = expression.replace(br, '')\n",
    "    return not expression\n",
    "input_string = \"([]{}()\"\n",
    "if brackets(input_string):\n",
    "    print(input_string,\"balanced\")\n",
    "else:\n",
    "    print(input_string,\"Not balanced\")"
   ]
  },
  {
   "cell_type": "code",
   "execution_count": 63,
   "id": "ce4d1282",
   "metadata": {},
   "outputs": [
    {
     "name": "stdout",
     "output_type": "stream",
     "text": [
      "Original Stack\n",
      "5\n",
      "4\n",
      "3\n",
      "2\n",
      "1\n",
      "\n",
      "Stack after Reversing\n",
      "1\n",
      "2\n",
      "3\n",
      "4\n",
      "5\n"
     ]
    }
   ],
   "source": [
    "# create class for stack:\n",
    "\n",
    "class Stack:\n",
    " \n",
    "    def __init__(self):\n",
    "        self.Elements = []\n",
    "         \n",
    "   \n",
    "    def push(self, value):\n",
    "        self.Elements.append(value)\n",
    "       \n",
    "\n",
    "    def pop(self):\n",
    "        return self.Elements.pop()\n",
    "     \n",
    "\n",
    "    def empty(self):\n",
    "        return self.Elements == []\n",
    "     \n",
    "    \n",
    "    def show(self):\n",
    "        for value in reversed(self.Elements):\n",
    "            print(value)\n",
    "def BottomInsert(s, value):\n",
    "    if s.empty():\n",
    "         \n",
    "        s.push(value)\n",
    "         \n",
    "    else:\n",
    "        popped = s.pop()\n",
    "        BottomInsert(s, value)\n",
    "        s.push(popped)\n",
    "\n",
    "def Reverse(s):\n",
    "    if s.empty():\n",
    "        pass\n",
    "    else:\n",
    "        popped = s.pop()\n",
    "        Reverse(s)\n",
    "        BottomInsert(s, popped)\n",
    "stk = Stack()\n",
    " \n",
    "stk.push(1)\n",
    "stk.push(2)\n",
    "stk.push(3)\n",
    "stk.push(4)\n",
    "stk.push(5)\n",
    " \n",
    "print(\"Original Stack\")\n",
    "stk.show()\n",
    " \n",
    "print(\"\\nStack after Reversing\")\n",
    "Reverse(stk)\n",
    "stk.show()"
   ]
  },
  {
   "cell_type": "code",
   "execution_count": 42,
   "id": "fa8e44bc",
   "metadata": {},
   "outputs": [
    {
     "name": "stdout",
     "output_type": "stream",
     "text": [
      "6\n",
      "6\n",
      "5\n",
      "3\n",
      "5\n",
      "6\n"
     ]
    }
   ],
   "source": [
    "from collections import deque\n",
    " \n",
    "class MinStack:\n",
    "    def __init__(self):\n",
    "        # main stack to store elements\n",
    "        self.s = deque()\n",
    "        # variable to store the minimum element\n",
    "        self.min = None\n",
    " \n",
    "    # Inserts a given element on top of the stack\n",
    "    def push(self, val):\n",
    "        if not self.s:\n",
    "            self.s.append(val)\n",
    "            self.min = val\n",
    "        elif val > self.min:\n",
    "            self.s.append(val)\n",
    "        else:\n",
    "            self.s.append(2*val - self.min)\n",
    "            self.min = val\n",
    " \n",
    "    # Removes the top element from the stack\n",
    "    def pop(self):\n",
    "        if not self.s:\n",
    "            self.print('Stack underflow!!')\n",
    "            exit(-1)\n",
    "        top = self.s[-1]\n",
    "        if top < self.min:\n",
    "            self.min = 2*self.min - top\n",
    "        self.s.pop()\n",
    " \n",
    "    # Returns the minimum element from the stack in constant time\n",
    "    def getMin(self):\n",
    "        return self.min\n",
    "s = MinStack()\n",
    "s.push(6)\n",
    "print(s.getMin())\n",
    " \n",
    "s.push(7)\n",
    "print(s.getMin())\n",
    " \n",
    "s.push(5)\n",
    "print(s.getMin())\n",
    " \n",
    "s.push(3)\n",
    "print(s.getMin())\n",
    " \n",
    "s.pop()\n",
    "print(s.getMin())\n",
    " \n",
    "s.pop()\n",
    "print(s.getMin())"
   ]
  },
  {
   "cell_type": "code",
   "execution_count": null,
   "id": "50b1ccbb",
   "metadata": {},
   "outputs": [],
   "source": []
  },
  {
   "cell_type": "code",
   "execution_count": null,
   "id": "4a6b11ca",
   "metadata": {},
   "outputs": [],
   "source": []
  },
  {
   "cell_type": "code",
   "execution_count": null,
   "id": "fc8349e2",
   "metadata": {},
   "outputs": [],
   "source": []
  }
 ],
 "metadata": {
  "kernelspec": {
   "display_name": "Python 3",
   "language": "python",
   "name": "python3"
  },
  "language_info": {
   "codemirror_mode": {
    "name": "ipython",
    "version": 3
   },
   "file_extension": ".py",
   "mimetype": "text/x-python",
   "name": "python",
   "nbconvert_exporter": "python",
   "pygments_lexer": "ipython3",
   "version": "3.8.8"
  }
 },
 "nbformat": 4,
 "nbformat_minor": 5
}
