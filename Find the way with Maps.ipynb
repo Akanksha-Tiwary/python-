{
 "cells": [
  {
   "cell_type": "code",
   "execution_count": 1,
   "id": "3e37bff7",
   "metadata": {},
   "outputs": [],
   "source": [
    "# Write a Python program to triple all numbers of a given list of integers. Use Python map."
   ]
  },
  {
   "cell_type": "code",
   "execution_count": 13,
   "id": "05addb53",
   "metadata": {},
   "outputs": [
    {
     "name": "stdout",
     "output_type": "stream",
     "text": [
      "Original list:  (8, 4, 5, 6, 2, 1, 0, 4)\n",
      "Triple of mentioned numbers are :\n",
      "[24, 12, 15, 18, 6, 3, 0, 12]\n"
     ]
    }
   ],
   "source": [
    "l = (8,4,5,6,2,1,0,4)\n",
    "print(\"Original list: \", l)\n",
    "a = map(lambda x: x + x + x, l) \n",
    "print(\"Triple of mentioned numbers are :\")\n",
    "print(list(a))"
   ]
  },
  {
   "cell_type": "code",
   "execution_count": null,
   "id": "d28edb18",
   "metadata": {},
   "outputs": [],
   "source": []
  }
 ],
 "metadata": {
  "kernelspec": {
   "display_name": "Python 3",
   "language": "python",
   "name": "python3"
  },
  "language_info": {
   "codemirror_mode": {
    "name": "ipython",
    "version": 3
   },
   "file_extension": ".py",
   "mimetype": "text/x-python",
   "name": "python",
   "nbconvert_exporter": "python",
   "pygments_lexer": "ipython3",
   "version": "3.8.8"
  }
 },
 "nbformat": 4,
 "nbformat_minor": 5
}
