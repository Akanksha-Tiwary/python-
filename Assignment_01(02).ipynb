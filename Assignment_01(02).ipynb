{
 "cells": [
  {
   "cell_type": "code",
   "execution_count": 3,
   "id": "bdc43d37",
   "metadata": {},
   "outputs": [
    {
     "name": "stdout",
     "output_type": "stream",
     "text": [
      " :sgnik repus iannehC\n"
     ]
    }
   ],
   "source": [
    "# Assignment_01(2):\n",
    "# Reverse string\n",
    "# method-1\n",
    "\n",
    "favourite_team = \"Chennai super kings: \"[::-1]\n",
    "print(favourite_team)\n"
   ]
  },
  {
   "cell_type": "code",
   "execution_count": 4,
   "id": "f02a5781",
   "metadata": {},
   "outputs": [
    {
     "name": "stdout",
     "output_type": "stream",
     "text": [
      "Input your favourite IPL team: Royal challengerss bangalore\n",
      "erolagnab ssregnellahc layoR"
     ]
    }
   ],
   "source": [
    "# Assignment_02\n",
    "# method-2 \n",
    "\n",
    "favourite_team=input(\"Input your favourite IPL team: \")\n",
    "for character in range(len(favourite_team)-1,-1,-1):\n",
    "    print(favourite_team[character],end=\"\")"
   ]
  },
  {
   "cell_type": "code",
   "execution_count": null,
   "id": "fc3f1c29",
   "metadata": {},
   "outputs": [],
   "source": []
  }
 ],
 "metadata": {
  "kernelspec": {
   "display_name": "Python 3",
   "language": "python",
   "name": "python3"
  },
  "language_info": {
   "codemirror_mode": {
    "name": "ipython",
    "version": 3
   },
   "file_extension": ".py",
   "mimetype": "text/x-python",
   "name": "python",
   "nbconvert_exporter": "python",
   "pygments_lexer": "ipython3",
   "version": "3.8.8"
  }
 },
 "nbformat": 4,
 "nbformat_minor": 5
}
