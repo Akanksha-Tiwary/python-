{
 "cells": [
  {
   "cell_type": "code",
   "execution_count": null,
   "id": "bdc43d37",
   "metadata": {},
   "outputs": [],
   "source": [
    "# Assignment_01(2):\n",
    "# Reverse string\n",
    "# method-1\n",
    "\n",
    "favourite_team = \"Chennai super kings: \"[::-1]\n",
    "print(favourite_team)\n"
   ]
  },
  {
   "cell_type": "code",
   "execution_count": 2,
   "id": "f02a5781",
   "metadata": {},
   "outputs": [
    {
     "name": "stdout",
     "output_type": "stream",
     "text": [
      "Input your favourite IPL team: rcb\n",
      "bcr"
     ]
    }
   ],
   "source": [
    "# Assignment_02\n",
    "# method-2 \n",
    "\n",
    "favourite_team=input(\"Input your favourite IPL team: \")\n",
    "for character in range(len(favourite_team)-1,-1,-1):\n",
    "    print(favourite_team[character],end=\"\")"
   ]
  }
 ],
 "metadata": {
  "kernelspec": {
   "display_name": "Python 3",
   "language": "python",
   "name": "python3"
  },
  "language_info": {
   "codemirror_mode": {
    "name": "ipython",
    "version": 3
   },
   "file_extension": ".py",
   "mimetype": "text/x-python",
   "name": "python",
   "nbconvert_exporter": "python",
   "pygments_lexer": "ipython3",
   "version": "3.8.8"
  }
 },
 "nbformat": 4,
 "nbformat_minor": 5
}
